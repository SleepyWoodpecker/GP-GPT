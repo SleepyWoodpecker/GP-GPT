{
 "cells": [
  {
   "cell_type": "markdown",
   "metadata": {},
   "source": [
    "THe aim of this is to investigate why the loss is not improving with an increase in the size of the neural net\n",
    "# 3 layers"
   ]
  },
  {
   "cell_type": "code",
   "execution_count": 1,
   "metadata": {},
   "outputs": [],
   "source": [
    "import torch\n",
    "from torch import nn, Tensor\n",
    "import torch.nn.functional as F\n",
    "\n",
    "# for as much consistency as possible:\n",
    "torch.manual_seed(1337)\n",
    "\n",
    "# Data processing and extraction\n",
    "data = open(\"data/essays.txt\", \"r\").read()\n",
    "character_set = sorted(list(set(data)))\n",
    "\n",
    "# creating of character level encoding\n",
    "stoi = {s: i for i, s in enumerate(character_set)}\n",
    "itos = {i: s for i, s in enumerate(character_set)}\n",
    "\n",
    "# ----- Global Parameters -----\n",
    "CONTEXT_LENGTH = 8\n",
    "BATCH_SIZE = 4\n",
    "VOCAB_SIZE = len(character_set)\n",
    "HIDDEN_LAYER = 32\n",
    "lr = 1e-3\n",
    "training_rounds = 10000\n",
    "# -----------------------------\n",
    "\n",
    "\n",
    "# encoding and decoding functions\n",
    "def encode(input):\n",
    "    \"\"\"Return the string to integer encoding for the input sequence\"\"\"\n",
    "    return [stoi[s] for s in input]\n",
    "\n",
    "\n",
    "def decode(input):\n",
    "    \"\"\"Based on the input sequence of integers, return it a string\"\"\"\n",
    "    return \"\".join([itos[i] for i in input])\n",
    "\n",
    "\n",
    "# preparing the training and testing splits\n",
    "n = int(len(data) * 0.9)\n",
    "train = torch.tensor(encode(data[:n]))\n",
    "val = torch.tensor(encode(data[n:]))\n",
    "\n",
    "\n",
    "def get_batch(data_set):\n",
    "    \"\"\"Generate a batch of learning examples and targets from the data set\"\"\"\n",
    "    # get a BATCH_SIZEW number of random integers\n",
    "    indexes = torch.randint(len(data_set) - CONTEXT_LENGTH, (BATCH_SIZE,))\n",
    "    # Get BATCH_SIZE length of inputs to mask later.\n",
    "    Xb = torch.stack([data_set[i : i + CONTEXT_LENGTH] for i in indexes], dim=0)\n",
    "    # Get the corresponding targets\n",
    "    Yb = torch.stack([data_set[i + 1 : i + CONTEXT_LENGTH + 1] for i in indexes], dim=0)\n",
    "    return Xb, Yb\n",
    "\n",
    "\n",
    "# give the model a way to evaluate its loss\n",
    "@torch.no_grad\n",
    "def get_loss(model, loss_evals):\n",
    "    \"\"\"Evaluate the mean loss for both training and validation batches\"\"\"\n",
    "    losses_tr, losses_val = [], []\n",
    "    for _ in range(loss_evals):\n",
    "        Xtr, Ytr = get_batch(train)\n",
    "        Xval, Yval = get_batch(val)\n",
    "\n",
    "        logits_tr, loss_tr = model(Xtr, Ytr)\n",
    "        losses_tr.append(loss_tr.item())\n",
    "\n",
    "        logits_val, loss_val = model(Xval, Yval)\n",
    "        losses_val.append(loss_val.item())\n",
    "\n",
    "    tr_avg_loss = torch.tensor(losses_tr, dtype=torch.float).mean()\n",
    "    val_avg_loss = torch.tensor(losses_val, dtype=torch.float).mean()\n",
    "    print(f\"Train loss: {tr_avg_loss:.5f} | Val loss: {val_avg_loss:.5f}\")\n",
    "\n",
    "\n",
    "# making a head of self-attention *squeals*\n",
    "class SelfAttentionHead(nn.Module):\n",
    "    def __init__(self, head_size):\n",
    "        super().__init__()\n",
    "        self.head_size = head_size\n",
    "        # each block of self-attention will have 3 values: Query, Key, Value\n",
    "        self.queries = nn.Linear(in_features=HIDDEN_LAYER, out_features=head_size)\n",
    "        self.keys = nn.Linear(in_features=HIDDEN_LAYER, out_features=head_size)\n",
    "        self.values = nn.Linear(in_features=HIDDEN_LAYER, out_features=head_size)\n",
    "\n",
    "        # then create the mask\n",
    "        self.register_buffer(\n",
    "            \"tril\", torch.tril(torch.ones((CONTEXT_LENGTH, CONTEXT_LENGTH)))\n",
    "        )\n",
    "\n",
    "    def forward(self, x):\n",
    "        # process the shape of the inputs so that the masked fill can occur even if the input size is less than CONTEXT LENGTH\n",
    "        B, T, C = x.shape\n",
    "\n",
    "        # generate the Q and K values for each input\n",
    "        Q: Tensor = self.queries(x)\n",
    "        K: Tensor = self.keys(x)\n",
    "        # create the weights RMB TO SCALE!\n",
    "        wei = Q @ K.transpose(-1, -2) * self.head_size**-0.5\n",
    "        # **** this line with T is kind of sketchy welps, will have to dig further later ****\n",
    "        wei = wei.masked_fill(self.tril[:T, :T] == 0, float(\"-inf\"))\n",
    "        wei = F.softmax(wei, -1)\n",
    "\n",
    "        # produce the V\n",
    "        V = self.values(x)\n",
    "\n",
    "        # determine the weighted result\n",
    "        out = wei @ V\n",
    "        return out\n",
    "\n",
    "\n",
    "class MultiHeadedAttention(nn.Module):\n",
    "    def __init__(self, number_of_heads, head_size):\n",
    "        super().__init__()\n",
    "        self.multi_headed_attention_block = nn.ModuleList(\n",
    "            [SelfAttentionHead(head_size) for _ in range(number_of_heads)]\n",
    "        )\n",
    "\n",
    "    def forward(self, x):\n",
    "        # since the multi-attention head requires the splitting of the channels among the heads, this joins back the channels\n",
    "        out = torch.cat(\n",
    "            [attn_head(x) for attn_head in self.multi_headed_attention_block], dim=-1\n",
    "        )\n",
    "        return out\n",
    "\n",
    "\n",
    "class FeedForward(nn.Module):\n",
    "    \"\"\"This block gives tokens the time to think\"\"\"\n",
    "\n",
    "    def __init__(self, in_features, out_features):\n",
    "        super().__init__()\n",
    "        self.ff = nn.Sequential(\n",
    "            nn.Linear(in_features=in_features, out_features=out_features), nn.ReLU()\n",
    "        )\n",
    "\n",
    "    def forward(self, x):\n",
    "        out = self.ff(x)\n",
    "        return out\n",
    "\n",
    "\n",
    "class Block(nn.Module):\n",
    "    \"\"\"Enables communication (multi-headed self-attention), then computation (feed-forward)\"\"\"\n",
    "\n",
    "    def __init__(self, hidden_layer_size, no_of_heads):\n",
    "        super().__init__()\n",
    "        multi_attn_head_size = hidden_layer_size // no_of_heads\n",
    "        self.multi_attn = MultiHeadedAttention(no_of_heads, multi_attn_head_size)\n",
    "        self.ffwd = FeedForward(hidden_layer_size, hidden_layer_size)\n",
    "\n",
    "    def forward(self, x):\n",
    "        x = self.multi_attn(x)\n",
    "        x = self.ffwd(x)\n",
    "        self.out = x\n",
    "        return x\n",
    "\n",
    "\n",
    "# creation of the model\n",
    "class Model(nn.Module):\n",
    "    def __init__(self):\n",
    "        super().__init__()\n",
    "        self.token_embedding_table = nn.Embedding(\n",
    "            num_embeddings=VOCAB_SIZE, embedding_dim=HIDDEN_LAYER\n",
    "        )\n",
    "        # besides the identity of the tokens, we also wish to embed the postition of the tokens\n",
    "        self.position_embedding_table = nn.Embedding(\n",
    "            num_embeddings=CONTEXT_LENGTH, embedding_dim=HIDDEN_LAYER\n",
    "        )\n",
    "        # self.blocks = nn.Sequential(\n",
    "        #     Block(hidden_layer_size=HIDDEN_LAYER, no_of_heads=4),\n",
    "        #     # Block(hidden_layer_size=HIDDEN_LAYER, no_of_heads=4),\n",
    "        #     # Block(hidden_layer_size=HIDDEN_LAYER, no_of_heads=4),\n",
    "        # )\n",
    "        self.block1 = Block(hidden_layer_size=HIDDEN_LAYER, no_of_heads=4)\n",
    "        self.block2 = Block(hidden_layer_size=HIDDEN_LAYER, no_of_heads=4)\n",
    "        self.block3 = Block(hidden_layer_size=HIDDEN_LAYER, no_of_heads=4)\n",
    "\n",
    "        # self.multi_head = MultiHeadedAttention(4, HIDDEN_LAYER // 4)\n",
    "        # self.ffwd = FeedForward(HIDDEN_LAYER, HIDDEN_LAYER)\n",
    "        self.lm_head = nn.Linear(in_features=HIDDEN_LAYER, out_features=VOCAB_SIZE)\n",
    "\n",
    "    def forward(self, x, targets=None):\n",
    "        \"\"\"Do a forward pass of the NN. Returns loss if targets are given\"\"\"\n",
    "        # get the shape of the input so that the postitional outputs can be properly computed when the input size is less than 8\n",
    "        B, T = x.shape\n",
    "\n",
    "        token_logits: Tensor = self.token_embedding_table(x)\n",
    "        postition_logits: Tensor = self.position_embedding_table(torch.arange(T))\n",
    "        input_tokens = token_logits + postition_logits\n",
    "        # weighted_tokens = self.multi_head(input_tokens)\n",
    "        # feed_forward = self.ffwd(weighted_tokens)\n",
    "        feed_forward = self.block1(input_tokens)\n",
    "        feed_forward = self.block2(feed_forward)\n",
    "        feed_forward = self.block3(feed_forward)\n",
    "        logits: Tensor = self.lm_head(feed_forward)\n",
    "\n",
    "        # if there are targets present, perform a calculation of the loss\n",
    "        if targets != None:\n",
    "            # B: number of batches, T: the context length, C: the number of outputs\n",
    "            B, T, C = logits.shape\n",
    "            # order the logits in the form: (minibatch,C) to enable cross_entropy calculation\n",
    "            logits = logits.view(B * T, C)\n",
    "            targets = targets.view(B * T)\n",
    "            loss = F.cross_entropy(logits, targets)\n",
    "            return logits, loss\n",
    "\n",
    "        return logits\n",
    "\n",
    "    def generate(self, x, max_tokens=10):\n",
    "        \"\"\"Receives a (B, T) input token and creates tokens based on the input\"\"\"\n",
    "        for _ in range(max_tokens):\n",
    "            # get the last CONTEXT LENGTH number of tokens from the input sequence\n",
    "            context = x[:, -CONTEXT_LENGTH:]\n",
    "            logits = self(context)\n",
    "            # we are only interested in the logits of the last character\n",
    "            last_char_logits = logits[:, -1, :]  # (1, 88)\n",
    "            # take the last embedding, since that is all that we are concerned about\n",
    "            probs = F.softmax(\n",
    "                last_char_logits, dim=1\n",
    "            )  # the result of this is that all values along dim 1 will sum to 1\n",
    "            next_char = torch.multinomial(probs, 1)\n",
    "            x = torch.cat(\n",
    "                [x, next_char], dim=1\n",
    "            )  # addition is perfomed along dim=1 here because they all belong in the same batch\n",
    "        return x"
   ]
  },
  {
   "cell_type": "code",
   "execution_count": 2,
   "metadata": {},
   "outputs": [
    {
     "name": "stdout",
     "output_type": "stream",
     "text": [
      "Train loss: 4.49254 | Val loss: 4.48979\n",
      "Train loss: 2.94325 | Val loss: 2.93754\n",
      "Train loss: 2.80458 | Val loss: 2.82144\n",
      "Train loss: 2.61479 | Val loss: 2.61669\n",
      "Train loss: 2.54685 | Val loss: 2.56638\n",
      "Train loss: 2.47567 | Val loss: 2.50713\n",
      "Train loss: 2.43373 | Val loss: 2.44476\n",
      "Train loss: 2.40536 | Val loss: 2.40891\n",
      "Train loss: 2.35152 | Val loss: 2.36069\n",
      "Train loss: 2.33025 | Val loss: 2.38942\n"
     ]
    }
   ],
   "source": [
    "# try to perform one training round\n",
    "m = Model()\n",
    "optimizer = torch.optim.AdamW(params=m.parameters(), lr=lr)\n",
    "\n",
    "for i in range(training_rounds):\n",
    "    Xtr, Ytr = get_batch(train)\n",
    "    # forward pass\n",
    "    logits, loss = m(Xtr, Ytr)\n",
    "\n",
    "    # print the loss at regular intervals\n",
    "    if i % 1000 == 0:\n",
    "        get_loss(m, 500)\n",
    "\n",
    "    # backward pass\n",
    "    optimizer.zero_grad(set_to_none=True)\n",
    "    loss.backward()\n",
    "    optimizer.step()"
   ]
  },
  {
   "cell_type": "code",
   "execution_count": 3,
   "metadata": {},
   "outputs": [],
   "source": [
    "import matplotlib.pyplot as plt"
   ]
  },
  {
   "cell_type": "code",
   "execution_count": 4,
   "metadata": {},
   "outputs": [
    {
     "name": "stdout",
     "output_type": "stream",
     "text": [
      "tensor([487.,   6.,   5.,   8.,   8.,   8.,   1.,   5.,   3.,   2.,   5.,   6.,\n",
      "          9.,   4.,   4.,   7.,   6.,   4.,   8.,   5.,   4.,   5.,  10.,   2.,\n",
      "          4.,   2.,   5.,   7.,   5.,   4.], grad_fn=<NotImplemented>) tensor([0.0000, 0.0267, 0.0533, 0.0800, 0.1067, 0.1333, 0.1600, 0.1867, 0.2133,\n",
      "        0.2400, 0.2667, 0.2933, 0.3200, 0.3467, 0.3733, 0.4000, 0.4267, 0.4533,\n",
      "        0.4800, 0.5067, 0.5333, 0.5600, 0.5867, 0.6133, 0.6400, 0.6667, 0.6933,\n",
      "        0.7200, 0.7467, 0.7733, 0.8000], grad_fn=<NotImplemented>)\n",
      "torch.Size([481])\n"
     ]
    },
    {
     "data": {
      "image/png": "[encoded data removed]",
      "text/plain": [
       "<Figure size 640x480 with 1 Axes>"
      ]
     },
     "metadata": {},
     "output_type": "display_data"
    }
   ],
   "source": [
    "# plot the data on a graph to check out what is going on\n",
    "hy, hx = torch.histogram(m.block1.out, bins=30, range=(0, 0.8))\n",
    "print(hy, hx)\n",
    "plt.plot(hx.detach()[:-1], hy.detach())\n",
    "\n",
    "# check the number of values that are less than or equal to 0\n",
    "zero_mask1 = torch.le(m.block1.out, 0)\n",
    "zeros = m.block1.out[zero_mask1]\n",
    "three_block_layer1 = zeros.shape\n",
    "print(zeros.shape)"
   ]
  },
  {
   "cell_type": "code",
   "execution_count": 5,
   "metadata": {},
   "outputs": [
    {
     "name": "stdout",
     "output_type": "stream",
     "text": [
      "tensor([591.,   6.,   4.,   4.,   4.,   5.,   5.,   1.,   3.,   3.,   3.,   4.,\n",
      "          3.,   3.,   2.,   2.,   4.,   5.,   2.,   4.,   3.,   3.,   2.,   3.,\n",
      "          3.,   3.,   1.,   4.,   4.,   8.], grad_fn=<NotImplemented>) tensor([0.0000, 0.0267, 0.0533, 0.0800, 0.1067, 0.1333, 0.1600, 0.1867, 0.2133,\n",
      "        0.2400, 0.2667, 0.2933, 0.3200, 0.3467, 0.3733, 0.4000, 0.4267, 0.4533,\n",
      "        0.4800, 0.5067, 0.5333, 0.5600, 0.5867, 0.6133, 0.6400, 0.6667, 0.6933,\n",
      "        0.7200, 0.7467, 0.7733, 0.8000], grad_fn=<NotImplemented>)\n",
      "torch.Size([590])\n"
     ]
    },
    {
     "data": {
      "image/png": "[encoded data removed]",
      "text/plain": [
       "<Figure size 640x480 with 1 Axes>"
      ]
     },
     "metadata": {},
     "output_type": "display_data"
    }
   ],
   "source": [
    "# plot the data on a graph to check out what is going on\n",
    "hy, hx = torch.histogram(m.block2.out, bins=30, range=(0, 0.8))\n",
    "print(hy, hx)\n",
    "plt.plot(hx.detach()[:-1], hy.detach())\n",
    "\n",
    "# check the number of values that are less than or equal to 0\n",
    "zero_mask1 = torch.le(m.block2.out, 0)\n",
    "zeros = m.block2.out[zero_mask1]\n",
    "three_block_layer2 = zeros.shape\n",
    "print(zeros.shape)"
   ]
  },
  {
   "cell_type": "code",
   "execution_count": 6,
   "metadata": {},
   "outputs": [
    {
     "name": "stdout",
     "output_type": "stream",
     "text": [
      "tensor([509.,   7.,   4.,   6.,   2.,   5.,   4.,   4.,   5.,   6.,   2.,   2.,\n",
      "          5.,   6.,   8.,   4.,   3.,   3.,   3.,   4.,   7.,   3.,   7.,  11.,\n",
      "          9.,   4.,   5.,   3.,   6.,   7.], grad_fn=<NotImplemented>) tensor([0.0000, 0.0267, 0.0533, 0.0800, 0.1067, 0.1333, 0.1600, 0.1867, 0.2133,\n",
      "        0.2400, 0.2667, 0.2933, 0.3200, 0.3467, 0.3733, 0.4000, 0.4267, 0.4533,\n",
      "        0.4800, 0.5067, 0.5333, 0.5600, 0.5867, 0.6133, 0.6400, 0.6667, 0.6933,\n",
      "        0.7200, 0.7467, 0.7733, 0.8000], grad_fn=<NotImplemented>)\n",
      "torch.Size([502])\n"
     ]
    },
    {
     "data": {
      "image/png": "[encoded data removed]",
      "text/plain": [
       "<Figure size 640x480 with 1 Axes>"
      ]
     },
     "metadata": {},
     "output_type": "display_data"
    }
   ],
   "source": [
    "# plot the data on a graph to check out what is going on\n",
    "hy, hx = torch.histogram(m.block3.out, bins=30, range=(0, 0.8))\n",
    "print(hy, hx)\n",
    "plt.plot(hx.detach()[:-1], hy.detach())\n",
    "\n",
    "# check the number of values that are less than or equal to 0\n",
    "zero_mask1 = torch.le(m.block3.out, 0)\n",
    "zeros = m.block3.out[zero_mask1]\n",
    "three_block_layer3 = zeros.shape\n",
    "print(zeros.shape)"
   ]
  },
  {
   "cell_type": "code",
   "execution_count": 7,
   "metadata": {},
   "outputs": [],
   "source": [
    "# for as much consistency as possible:\n",
    "torch.manual_seed(1337)\n",
    "\n",
    "# creation of the model\n",
    "class Model1(nn.Module):\n",
    "    def __init__(self):\n",
    "        super().__init__()\n",
    "        self.token_embedding_table = nn.Embedding(\n",
    "            num_embeddings=VOCAB_SIZE, embedding_dim=HIDDEN_LAYER\n",
    "        )\n",
    "        # besides the identity of the tokens, we also wish to embed the postition of the tokens\n",
    "        self.position_embedding_table = nn.Embedding(\n",
    "            num_embeddings=CONTEXT_LENGTH, embedding_dim=HIDDEN_LAYER\n",
    "        )\n",
    "        # self.blocks = nn.Sequential(\n",
    "        #     Block(hidden_layer_size=HIDDEN_LAYER, no_of_heads=4),\n",
    "        #     # Block(hidden_layer_size=HIDDEN_LAYER, no_of_heads=4),\n",
    "        #     # Block(hidden_layer_size=HIDDEN_LAYER, no_of_heads=4),\n",
    "        # )\n",
    "        self.block1 = Block(hidden_layer_size=HIDDEN_LAYER, no_of_heads=4)\n",
    "\n",
    "        # self.multi_head = MultiHeadedAttention(4, HIDDEN_LAYER // 4)\n",
    "        # self.ffwd = FeedForward(HIDDEN_LAYER, HIDDEN_LAYER)\n",
    "        self.lm_head = nn.Linear(in_features=HIDDEN_LAYER, out_features=VOCAB_SIZE)\n",
    "\n",
    "    def forward(self, x, targets=None):\n",
    "        \"\"\"Do a forward pass of the NN. Returns loss if targets are given\"\"\"\n",
    "        # get the shape of the input so that the postitional outputs can be properly computed when the input size is less than 8\n",
    "        B, T = x.shape\n",
    "\n",
    "        token_logits: Tensor = self.token_embedding_table(x)\n",
    "        postition_logits: Tensor = self.position_embedding_table(torch.arange(T))\n",
    "        input_tokens = token_logits + postition_logits\n",
    "        # weighted_tokens = self.multi_head(input_tokens)\n",
    "        # feed_forward = self.ffwd(weighted_tokens)\n",
    "        feed_forward = self.block1(input_tokens)\n",
    "        logits: Tensor = self.lm_head(feed_forward)\n",
    "\n",
    "        # if there are targets present, perform a calculation of the loss\n",
    "        if targets != None:\n",
    "            # B: number of batches, T: the context length, C: the number of outputs\n",
    "            B, T, C = logits.shape\n",
    "            # order the logits in the form: (minibatch,C) to enable cross_entropy calculation\n",
    "            logits = logits.view(B * T, C)\n",
    "            targets = targets.view(B * T)\n",
    "            loss = F.cross_entropy(logits, targets)\n",
    "            return logits, loss\n",
    "\n",
    "        return logits"
   ]
  },
  {
   "cell_type": "code",
   "execution_count": 8,
   "metadata": {},
   "outputs": [
    {
     "name": "stdout",
     "output_type": "stream",
     "text": [
      "Train loss: 4.47699 | Val loss: 4.47660\n",
      "Train loss: 2.56878 | Val loss: 2.56961\n",
      "Train loss: 2.45963 | Val loss: 2.46185\n",
      "Train loss: 2.39250 | Val loss: 2.43868\n",
      "Train loss: 2.34915 | Val loss: 2.38014\n",
      "Train loss: 2.30704 | Val loss: 2.36612\n",
      "Train loss: 2.29878 | Val loss: 2.34644\n",
      "Train loss: 2.26897 | Val loss: 2.31133\n",
      "Train loss: 2.27540 | Val loss: 2.30361\n",
      "Train loss: 2.23280 | Val loss: 2.28223\n"
     ]
    }
   ],
   "source": [
    "# try to perform one training round\n",
    "m1 = Model1()\n",
    "optimizer = torch.optim.AdamW(params=m1.parameters(), lr=lr)\n",
    "\n",
    "for i in range(training_rounds):\n",
    "    Xtr, Ytr = get_batch(train)\n",
    "    # forward pass\n",
    "    logits, loss1 = m1(Xtr, Ytr)\n",
    "\n",
    "    # print the loss at regular intervals\n",
    "    if i % 1000 == 0:\n",
    "        get_loss(m1, 500)\n",
    "\n",
    "    # backward pass\n",
    "    optimizer.zero_grad(set_to_none=True)\n",
    "    loss1.backward()\n",
    "    optimizer.step()"
   ]
  },
  {
   "cell_type": "code",
   "execution_count": 9,
   "metadata": {},
   "outputs": [
    {
     "name": "stdout",
     "output_type": "stream",
     "text": [
      "tensor([442.,   7.,   5.,   5.,   3.,   2.,   3.,   2.,   5.,   5.,   1.,   7.,\n",
      "          6.,   1.,   3.,   6.,   6.,   5.,   4.,   3.,   7.,   8.,   5.,   1.,\n",
      "          5.,   7.,   4.,   2.,   5.,   3.], grad_fn=<NotImplemented>) tensor([0.0000, 0.0267, 0.0533, 0.0800, 0.1067, 0.1333, 0.1600, 0.1867, 0.2133,\n",
      "        0.2400, 0.2667, 0.2933, 0.3200, 0.3467, 0.3733, 0.4000, 0.4267, 0.4533,\n",
      "        0.4800, 0.5067, 0.5333, 0.5600, 0.5867, 0.6133, 0.6400, 0.6667, 0.6933,\n",
      "        0.7200, 0.7467, 0.7733, 0.8000], grad_fn=<NotImplemented>)\n",
      "torch.Size([435])\n"
     ]
    },
    {
     "data": {
      "image/png": "[encoded data removed]",
      "text/plain": [
       "<Figure size 640x480 with 1 Axes>"
      ]
     },
     "metadata": {},
     "output_type": "display_data"
    }
   ],
   "source": [
    "# plot the data on a graph to check out what is going on\n",
    "hy, hx = torch.histogram(m1.block1.out, bins=30, range=(0, 0.8))\n",
    "print(hy, hx)\n",
    "plt.plot(hx.detach()[:-1], hy.detach())\n",
    "\n",
    "# check the number of values that are less than or equal to 0\n",
    "zero_mask1 = torch.le(m1.block1.out, 0)\n",
    "zeros = m1.block1.out[zero_mask1]\n",
    "one_block_layer1 = zeros.shape\n",
    "\n",
    "print(zeros.shape)"
   ]
  },
  {
   "cell_type": "code",
   "execution_count": 10,
   "metadata": {},
   "outputs": [],
   "source": [
    "# for as much consistency as possible:\n",
    "torch.manual_seed(1337)\n",
    "\n",
    "# creation of the model\n",
    "class Model2(nn.Module):\n",
    "    def __init__(self):\n",
    "        super().__init__()\n",
    "        self.token_embedding_table = nn.Embedding(\n",
    "            num_embeddings=VOCAB_SIZE, embedding_dim=HIDDEN_LAYER\n",
    "        )\n",
    "        # besides the identity of the tokens, we also wish to embed the postition of the tokens\n",
    "        self.position_embedding_table = nn.Embedding(\n",
    "            num_embeddings=CONTEXT_LENGTH, embedding_dim=HIDDEN_LAYER\n",
    "        )\n",
    "        # self.blocks = nn.Sequential(\n",
    "        #     Block(hidden_layer_size=HIDDEN_LAYER, no_of_heads=4),\n",
    "        #     # Block(hidden_layer_size=HIDDEN_LAYER, no_of_heads=4),\n",
    "        #     # Block(hidden_layer_size=HIDDEN_LAYER, no_of_heads=4),\n",
    "        # )\n",
    "        self.block1 = Block(hidden_layer_size=HIDDEN_LAYER, no_of_heads=4)\n",
    "        self.block2 = Block(hidden_layer_size=HIDDEN_LAYER, no_of_heads=4)\n",
    "        \n",
    "        # self.multi_head = MultiHeadedAttention(4, HIDDEN_LAYER // 4)\n",
    "        # self.ffwd = FeedForward(HIDDEN_LAYER, HIDDEN_LAYER)\n",
    "        self.lm_head = nn.Linear(in_features=HIDDEN_LAYER, out_features=VOCAB_SIZE)\n",
    "\n",
    "    def forward(self, x, targets=None):\n",
    "        \"\"\"Do a forward pass of the NN. Returns loss if targets are given\"\"\"\n",
    "        # get the shape of the input so that the postitional outputs can be properly computed when the input size is less than 8\n",
    "        B, T = x.shape\n",
    "\n",
    "        token_logits: Tensor = self.token_embedding_table(x)\n",
    "        postition_logits: Tensor = self.position_embedding_table(torch.arange(T))\n",
    "        input_tokens = token_logits + postition_logits\n",
    "        # weighted_tokens = self.multi_head(input_tokens)\n",
    "        # feed_forward = self.ffwd(weighted_tokens)\n",
    "        feed_forward = self.block1(input_tokens)\n",
    "        feed_forward = self.block2(feed_forward)\n",
    "        logits: Tensor = self.lm_head(feed_forward)\n",
    "\n",
    "        # if there are targets present, perform a calculation of the loss\n",
    "        if targets != None:\n",
    "            # B: number of batches, T: the context length, C: the number of outputs\n",
    "            B, T, C = logits.shape\n",
    "            # order the logits in the form: (minibatch,C) to enable cross_entropy calculation\n",
    "            logits = logits.view(B * T, C)\n",
    "            targets = targets.view(B * T)\n",
    "            loss = F.cross_entropy(logits, targets)\n",
    "            return logits, loss\n",
    "\n",
    "        return logits"
   ]
  },
  {
   "cell_type": "code",
   "execution_count": 11,
   "metadata": {},
   "outputs": [
    {
     "name": "stdout",
     "output_type": "stream",
     "text": [
      "Train loss: 4.48165 | Val loss: 4.47936\n",
      "Train loss: 2.68962 | Val loss: 2.71589\n",
      "Train loss: 2.55565 | Val loss: 2.55901\n",
      "Train loss: 2.47002 | Val loss: 2.49225\n",
      "Train loss: 2.40517 | Val loss: 2.44486\n",
      "Train loss: 2.36909 | Val loss: 2.38921\n",
      "Train loss: 2.33903 | Val loss: 2.35441\n",
      "Train loss: 2.29084 | Val loss: 2.33292\n",
      "Train loss: 2.26867 | Val loss: 2.32475\n",
      "Train loss: 2.25526 | Val loss: 2.29993\n"
     ]
    }
   ],
   "source": [
    "# try to perform one training round\n",
    "m2 = Model2()\n",
    "optimizer = torch.optim.AdamW(params=m2.parameters(), lr=lr)\n",
    "\n",
    "for i in range(training_rounds):\n",
    "    Xtr, Ytr = get_batch(train)\n",
    "    # forward pass\n",
    "    logits, loss2 = m2(Xtr, Ytr)\n",
    "\n",
    "    # print the loss at regular intervals\n",
    "    if i % 1000 == 0:\n",
    "        get_loss(m2, 500)\n",
    "\n",
    "    # backward pass\n",
    "    optimizer.zero_grad(set_to_none=True)\n",
    "    loss2.backward()\n",
    "    optimizer.step()"
   ]
  },
  {
   "cell_type": "code",
   "execution_count": 12,
   "metadata": {},
   "outputs": [
    {
     "name": "stdout",
     "output_type": "stream",
     "text": [
      "tensor([464.,   7.,  10.,   2.,   3.,   6.,   6.,   2.,   6.,   4.,   4.,   3.,\n",
      "          3.,   5.,   6.,   3.,   8.,   2.,   6.,   5.,   8.,   6.,   9.,   7.,\n",
      "          4.,   6.,  11.,   6.,   4.,   5.], grad_fn=<NotImplemented>) tensor([0.0000, 0.0267, 0.0533, 0.0800, 0.1067, 0.1333, 0.1600, 0.1867, 0.2133,\n",
      "        0.2400, 0.2667, 0.2933, 0.3200, 0.3467, 0.3733, 0.4000, 0.4267, 0.4533,\n",
      "        0.4800, 0.5067, 0.5333, 0.5600, 0.5867, 0.6133, 0.6400, 0.6667, 0.6933,\n",
      "        0.7200, 0.7467, 0.7733, 0.8000], grad_fn=<NotImplemented>)\n",
      "torch.Size([455])\n"
     ]
    },
    {
     "data": {
      "image/png": "[encoded data removed]",
      "text/plain": [
       "<Figure size 640x480 with 1 Axes>"
      ]
     },
     "metadata": {},
     "output_type": "display_data"
    }
   ],
   "source": [
    "\n",
    "# plot the data on a graph to check out what is going on\n",
    "hy, hx = torch.histogram(m2.block1.out, bins=30, range=(0, 0.8))\n",
    "print(hy, hx)\n",
    "plt.plot(hx.detach()[:-1], hy.detach())\n",
    "\n",
    "# check the number of values that are less than or equal to 0\n",
    "zero_mask1 = torch.le(m2.block1.out, 0)\n",
    "zeros = m2.block1.out[zero_mask1]\n",
    "two_block_layer1 = zeros.shape\n",
    "\n",
    "print(zeros.shape)"
   ]
  },
  {
   "cell_type": "code",
   "execution_count": 13,
   "metadata": {},
   "outputs": [
    {
     "name": "stdout",
     "output_type": "stream",
     "text": [
      "tensor([595.,   4.,   0.,   2.,   3.,   2.,   6.,   1.,   7.,   2.,   2.,   3.,\n",
      "          2.,   0.,   3.,   4.,   5.,   0.,   6.,   2.,   2.,   3.,   1.,   3.,\n",
      "          2.,   3.,   3.,   4.,   4.,   0.], grad_fn=<NotImplemented>) tensor([0.0000, 0.0267, 0.0533, 0.0800, 0.1067, 0.1333, 0.1600, 0.1867, 0.2133,\n",
      "        0.2400, 0.2667, 0.2933, 0.3200, 0.3467, 0.3733, 0.4000, 0.4267, 0.4533,\n",
      "        0.4800, 0.5067, 0.5333, 0.5600, 0.5867, 0.6133, 0.6400, 0.6667, 0.6933,\n",
      "        0.7200, 0.7467, 0.7733, 0.8000], grad_fn=<NotImplemented>)\n",
      "torch.Size([593])\n"
     ]
    },
    {
     "data": {
      "image/png": "[encoded data removed]",
      "text/plain": [
       "<Figure size 640x480 with 1 Axes>"
      ]
     },
     "metadata": {},
     "output_type": "display_data"
    }
   ],
   "source": [
    "\n",
    "# plot the data on a graph to check out what is going on\n",
    "hy, hx = torch.histogram(m2.block2.out, bins=30, range=(0, 0.8))\n",
    "print(hy, hx)\n",
    "plt.plot(hx.detach()[:-1], hy.detach())\n",
    "\n",
    "# check the number of values that are less than or equal to 0\n",
    "zero_mask1 = torch.le(m2.block2.out, 0)\n",
    "zeros = m2.block2.out[zero_mask1]\n",
    "two_block_layer2 = zeros.shape\n",
    "\n",
    "print(zeros.shape)"
   ]
  },
  {
   "cell_type": "code",
   "execution_count": 14,
   "metadata": {},
   "outputs": [
    {
     "name": "stdout",
     "output_type": "stream",
     "text": [
      "Train loss: 2.30067 | Val loss: 2.33467\n",
      "Train loss: 2.24283 | Val loss: 2.28012\n",
      "Train loss: 2.22331 | Val loss: 2.27201\n"
     ]
    }
   ],
   "source": [
    "three_loss = get_loss(m, loss_evals=1000)\n",
    "two_loss = get_loss(m2, loss_evals=1000)\n",
    "one_loss = get_loss(m1, loss_evals=1000)"
   ]
  },
  {
   "cell_type": "code",
   "execution_count": 16,
   "metadata": {},
   "outputs": [
    {
     "name": "stdout",
     "output_type": "stream",
     "text": [
      "number of dead neurons for 3 layer 481 590 502\n",
      "number of dead neurons for 2 layer 455 593\n",
      "number of dead neurons for 1 layer 435\n"
     ]
    }
   ],
   "source": [
    "print(\"number of dead neurons for 3 layer \" + str(three_block_layer1[0]), str(three_block_layer2[0]), str(three_block_layer3[0]))\n",
    "print(\"number of dead neurons for 2 layer \" + str(two_block_layer1[0]), str(two_block_layer2[0]))\n",
    "print(\"number of dead neurons for 1 layer \" + str(one_block_layer1[0]))\n"
   ]
  },
  {
   "cell_type": "markdown",
   "metadata": {},
   "source": [
    "Oddly enough, the pleateuing of gradients seems to have disappeared??\n",
    "Okay but I guess deeper nets get more difficult to train because there become more and more dead ReLU neurons with a gradient of 0?"
   ]
  }
 ],
 "metadata": {
  "kernelspec": {
   "display_name": "Python 3.10 (torch)",
   "language": "python",
   "name": "pytorch"
  },
  "language_info": {
   "codemirror_mode": {
    "name": "ipython",
    "version": 3
   },
   "file_extension": ".py",
   "mimetype": "text/x-python",
   "name": "python",
   "nbconvert_exporter": "python",
   "pygments_lexer": "ipython3",
   "version": "3.10.13"
  }
 },
 "nbformat": 4,
 "nbformat_minor": 2
}
